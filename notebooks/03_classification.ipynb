{
 "cells": [
  {
   "cell_type": "markdown",
   "id": "043933d1-0a38-49fe-b425-8f38e4f1f303",
   "metadata": {
    "tags": []
   },
   "source": [
    "# Exploring Temporal GNN Embeddings for Darknet Traffic Analysis\n",
    "## Final Classification Pipeline\n",
    "___\n",
    "\n",
    "## Table of Contents\n",
    "1. Main Classification Results\n",
    "2. Impact of History $H$\n",
    "3. Impact of Training Epochs\n",
    "4. Visualization\n",
    "\n",
    "This notebook contains the main codes to run the final k-Nearest-Neighbors classification pipeline. The main experiments are: (i) Main table with classification performance; (ii) impact of History parameter -- temporal aspect of tGNN; (iii) Impact of training epochs for incremental training."
   ]
  },
  {
   "cell_type": "code",
   "execution_count": 1,
   "id": "fc1950a4-a060-4872-8672-5d30b73711f6",
   "metadata": {},
   "outputs": [],
   "source": [
    "import pandas as pd\n",
    "import numpy as np\n",
    "from sklearn.metrics import classification_report\n",
    "\n",
    "import sys\n",
    "sys.path.append('../')\n",
    "\n",
    "from src.models.classification import KnnClassifier\n",
    "\n",
    "import warnings\n",
    "warnings.filterwarnings(\"ignore\")"
   ]
  },
  {
   "cell_type": "markdown",
   "id": "4c909602-32ab-47d5-8cb1-c762bbaba1c9",
   "metadata": {},
   "source": [
    "The following code defines a function classification_pipeline that processes embeddings, performs classification using K-nearest neighbors (KNN) with Leave-One-Out validation, and returns a classification report."
   ]
  },
  {
   "cell_type": "code",
   "execution_count": 2,
   "id": "f6cefc16-ee8d-4053-ac46-d539a95f77ce",
   "metadata": {},
   "outputs": [],
   "source": [
    "# Load Ground Truth\n",
    "gt = pd.read_csv('../data/ground_truth/ground_truth.csv')\n",
    "\n",
    "# Used classes\n",
    "indices = ['mirai', 'shadowserver', 'driftnet', 'internetcensus', \n",
    "           'censys', 'rapid7', 'onyphe', 'netsystems', 'shodan', \n",
    "           'securitytrails', 'intrinsec', 'unk_bruteforcer', \n",
    "           'unk_spammer', 'unk_exploiter', 'macro avg']\n",
    "\n",
    "def classification_pipeline(embeddings, active, gt):\n",
    "    # Get active embeddings\n",
    "    embeddings = embeddings.loc[active]\n",
    "    # Manage column names and merge embeddings with labels\n",
    "    embeddings = embeddings.reset_index().rename(columns={'index':'src_ip'})\n",
    "    embeddings = embeddings.merge(gt, on='src_ip', how='left')\\\n",
    "                           .fillna('unknown')\\\n",
    "                           .set_index('src_ip')\n",
    "\n",
    "    # Take classes with more than 10 senders in the considered snapshot\n",
    "    tmp = embeddings.value_counts('label')\n",
    "    tmp = tmp[tmp>10].index\n",
    "    tmp_idx = embeddings[~embeddings.label.isin(tmp)].index\n",
    "    # Set the others as unknown\n",
    "    embeddings.loc[tmp_idx, 'label'] = 'unknown'\n",
    "    \n",
    "    # Manage X and y datasets\n",
    "    X_train = embeddings.drop(columns=['label']).values\n",
    "    y_train = np.ravel(embeddings[['label']].values)\n",
    "    \n",
    "    # Initialize the knn\n",
    "    knn = KnnClassifier(n_neighbors=3, metric='cosine')\n",
    "    knn.fit(X_train, y_train, scale_data=True)\n",
    "    \n",
    "    # Leave-One-Out validation\n",
    "    to_keep = np.where(y_train!='unknown')[0].reshape(-1, 1)\n",
    "    y_true = y_train[to_keep]\n",
    "    y_pred = knn.predict(to_keep, scale_data=True, loo=True) # Pass the indices\n",
    "\n",
    "    # Get the classification report\n",
    "    crep = classification_report(\n",
    "        y_true, \n",
    "        y_pred, \n",
    "        labels=np.unique(np.ravel(y_true)), \n",
    "        output_dict=True\n",
    "    )\n",
    "    \n",
    "    return crep"
   ]
  },
  {
   "cell_type": "markdown",
   "id": "7f6f08f5-de19-468d-b3b0-035bea6f744a",
   "metadata": {
    "tags": []
   },
   "source": [
    "## 1. Main Classification Results"
   ]
  },
  {
   "cell_type": "markdown",
   "id": "e93a12cc-f056-4fa0-8f9f-8aa4d05ab30a",
   "metadata": {},
   "source": [
    "The following code iterates through each trained model and performs various operations for each column:\n",
    "1. **Manage file paths** and names based on the column name.\n",
    "2. **Iterate through days** from 21 to 31: Load a list of active senders from a CSV file and retrieve embeddings from a CSV file. Run a classification pipeline and extracts F1-Scores, then store the F1-Scores in the `reports` list.\n",
    "3. **Calculate the mean and standard deviation** of F1-Scores.\n",
    "4. **Organize the results as a dataframe and appends it to the `final_reps` list.\n",
    "5. **Concatenate** all the dataframes in the `final_reps` list and saves the results to a CSV file.\n",
    "6. **Display** the resulting dataframe**."
   ]
  },
  {
   "cell_type": "code",
   "execution_count": 21,
   "id": "695dae7f-fe59-42ac-8e2b-df3cc36257c3",
   "metadata": {
    "tags": []
   },
   "outputs": [
    {
     "data": {
      "application/vnd.jupyter.widget-view+json": {
       "model_id": "69522c61f91445e0b554c0b8685ea3d3",
       "version_major": 2,
       "version_minor": 0
      },
      "text/plain": [
       "  0%|          | 0/11 [00:00<?, ?it/s]"
      ]
     },
     "metadata": {},
     "output_type": "display_data"
    },
    {
     "data": {
      "application/vnd.jupyter.widget-view+json": {
       "model_id": "0c87bfed2282450a9038b220622e21b6",
       "version_major": 2,
       "version_minor": 0
      },
      "text/plain": [
       "  0%|          | 0/11 [00:00<?, ?it/s]"
      ]
     },
     "metadata": {},
     "output_type": "display_data"
    },
    {
     "data": {
      "application/vnd.jupyter.widget-view+json": {
       "model_id": "817a7f590fe6405aaca679b17c628391",
       "version_major": 2,
       "version_minor": 0
      },
      "text/plain": [
       "  0%|          | 0/11 [00:00<?, ?it/s]"
      ]
     },
     "metadata": {},
     "output_type": "display_data"
    },
    {
     "data": {
      "application/vnd.jupyter.widget-view+json": {
       "model_id": "bbaf736d2dce4064bf481d17eb168374",
       "version_major": 2,
       "version_minor": 0
      },
      "text/plain": [
       "  0%|          | 0/11 [00:00<?, ?it/s]"
      ]
     },
     "metadata": {},
     "output_type": "display_data"
    },
    {
     "data": {
      "application/vnd.jupyter.widget-view+json": {
       "model_id": "0414cfd8ed604422b668a56e07618a05",
       "version_major": 2,
       "version_minor": 0
      },
      "text/plain": [
       "  0%|          | 0/11 [00:00<?, ?it/s]"
      ]
     },
     "metadata": {},
     "output_type": "display_data"
    },
    {
     "data": {
      "application/vnd.jupyter.widget-view+json": {
       "model_id": "816f053d74fd4feeaab064b2ed4c4f1d",
       "version_major": 2,
       "version_minor": 0
      },
      "text/plain": [
       "  0%|          | 0/11 [00:00<?, ?it/s]"
      ]
     },
     "metadata": {},
     "output_type": "display_data"
    },
    {
     "data": {
      "application/vnd.jupyter.widget-view+json": {
       "model_id": "ed89fe8be09144efbd3adfe608e95875",
       "version_major": 2,
       "version_minor": 0
      },
      "text/plain": [
       "  0%|          | 0/11 [00:00<?, ?it/s]"
      ]
     },
     "metadata": {},
     "output_type": "display_data"
    },
    {
     "data": {
      "application/vnd.jupyter.widget-view+json": {
       "model_id": "78f287d0f7a94c98a03b87179b53dfd0",
       "version_major": 2,
       "version_minor": 0
      },
      "text/plain": [
       "  0%|          | 0/11 [00:00<?, ?it/s]"
      ]
     },
     "metadata": {},
     "output_type": "display_data"
    },
    {
     "data": {
      "application/vnd.jupyter.widget-view+json": {
       "model_id": "efb16d4a6d82458c9265a4b583e887b3",
       "version_major": 2,
       "version_minor": 0
      },
      "text/plain": [
       "  0%|          | 0/11 [00:00<?, ?it/s]"
      ]
     },
     "metadata": {},
     "output_type": "display_data"
    },
    {
     "data": {
      "text/html": [
       "<div>\n",
       "<style scoped>\n",
       "    .dataframe tbody tr th:only-of-type {\n",
       "        vertical-align: middle;\n",
       "    }\n",
       "\n",
       "    .dataframe tbody tr th {\n",
       "        vertical-align: top;\n",
       "    }\n",
       "\n",
       "    .dataframe thead th {\n",
       "        text-align: right;\n",
       "    }\n",
       "</style>\n",
       "<table border=\"1\" class=\"dataframe\">\n",
       "  <thead>\n",
       "    <tr style=\"text-align: right;\">\n",
       "      <th></th>\n",
       "      <th>iDarkVec</th>\n",
       "      <th>GCN</th>\n",
       "      <th>iGCN</th>\n",
       "      <th>GCNGRU</th>\n",
       "      <th>iGCNGRU</th>\n",
       "      <th>GCN_f</th>\n",
       "      <th>iGCN_f</th>\n",
       "      <th>GCNGRU_f</th>\n",
       "      <th>iGCNGRU_f</th>\n",
       "    </tr>\n",
       "    <tr>\n",
       "      <th>0</th>\n",
       "      <th></th>\n",
       "      <th></th>\n",
       "      <th></th>\n",
       "      <th></th>\n",
       "      <th></th>\n",
       "      <th></th>\n",
       "      <th></th>\n",
       "      <th></th>\n",
       "      <th></th>\n",
       "    </tr>\n",
       "  </thead>\n",
       "  <tbody>\n",
       "    <tr>\n",
       "      <th>mirai</th>\n",
       "      <td>0.98$\\pm$0.00</td>\n",
       "      <td>0.63$\\pm$0.03</td>\n",
       "      <td>0.76$\\pm$0.02</td>\n",
       "      <td>0.69$\\pm$0.03</td>\n",
       "      <td>0.72$\\pm$0.02</td>\n",
       "      <td>0.98$\\pm$0.00</td>\n",
       "      <td>0.98$\\pm$0.00</td>\n",
       "      <td>0.88$\\pm$0.06</td>\n",
       "      <td>0.98$\\pm$0.00</td>\n",
       "    </tr>\n",
       "    <tr>\n",
       "      <th>shadowserver</th>\n",
       "      <td>0.96$\\pm$0.02</td>\n",
       "      <td>0.14$\\pm$0.13</td>\n",
       "      <td>0.49$\\pm$0.15</td>\n",
       "      <td>0.64$\\pm$0.07</td>\n",
       "      <td>0.49$\\pm$0.16</td>\n",
       "      <td>0.91$\\pm$0.01</td>\n",
       "      <td>0.90$\\pm$0.02</td>\n",
       "      <td>0.95$\\pm$0.01</td>\n",
       "      <td>0.96$\\pm$0.01</td>\n",
       "    </tr>\n",
       "    <tr>\n",
       "      <th>driftnet</th>\n",
       "      <td>0.96$\\pm$0.01</td>\n",
       "      <td>0.77$\\pm$0.09</td>\n",
       "      <td>0.73$\\pm$0.06</td>\n",
       "      <td>0.87$\\pm$0.05</td>\n",
       "      <td>0.90$\\pm$0.02</td>\n",
       "      <td>0.88$\\pm$0.04</td>\n",
       "      <td>0.85$\\pm$0.05</td>\n",
       "      <td>0.97$\\pm$0.02</td>\n",
       "      <td>0.97$\\pm$0.02</td>\n",
       "    </tr>\n",
       "    <tr>\n",
       "      <th>internetcensus</th>\n",
       "      <td>0.99$\\pm$0.00</td>\n",
       "      <td>0.26$\\pm$0.12</td>\n",
       "      <td>0.33$\\pm$0.08</td>\n",
       "      <td>0.68$\\pm$0.05</td>\n",
       "      <td>0.47$\\pm$0.13</td>\n",
       "      <td>0.64$\\pm$0.12</td>\n",
       "      <td>0.58$\\pm$0.14</td>\n",
       "      <td>0.90$\\pm$0.04</td>\n",
       "      <td>0.92$\\pm$0.02</td>\n",
       "    </tr>\n",
       "    <tr>\n",
       "      <th>censys</th>\n",
       "      <td>0.94$\\pm$0.01</td>\n",
       "      <td>0.53$\\pm$0.06</td>\n",
       "      <td>0.60$\\pm$0.05</td>\n",
       "      <td>0.59$\\pm$0.05</td>\n",
       "      <td>0.60$\\pm$0.03</td>\n",
       "      <td>0.89$\\pm$0.03</td>\n",
       "      <td>0.88$\\pm$0.03</td>\n",
       "      <td>0.91$\\pm$0.02</td>\n",
       "      <td>0.92$\\pm$0.01</td>\n",
       "    </tr>\n",
       "    <tr>\n",
       "      <th>rapid7</th>\n",
       "      <td>1.00$\\pm$0.00</td>\n",
       "      <td>0.91$\\pm$0.05</td>\n",
       "      <td>0.76$\\pm$0.11</td>\n",
       "      <td>0.91$\\pm$0.02</td>\n",
       "      <td>0.83$\\pm$0.10</td>\n",
       "      <td>0.84$\\pm$0.04</td>\n",
       "      <td>0.84$\\pm$0.02</td>\n",
       "      <td>0.69$\\pm$0.47</td>\n",
       "      <td>0.97$\\pm$0.04</td>\n",
       "    </tr>\n",
       "    <tr>\n",
       "      <th>onyphe</th>\n",
       "      <td>0.96$\\pm$0.02</td>\n",
       "      <td>0.06$\\pm$0.05</td>\n",
       "      <td>0.05$\\pm$0.04</td>\n",
       "      <td>0.11$\\pm$0.06</td>\n",
       "      <td>0.05$\\pm$0.05</td>\n",
       "      <td>0.93$\\pm$0.03</td>\n",
       "      <td>0.93$\\pm$0.02</td>\n",
       "      <td>0.92$\\pm$0.01</td>\n",
       "      <td>0.91$\\pm$0.05</td>\n",
       "    </tr>\n",
       "    <tr>\n",
       "      <th>netsystems</th>\n",
       "      <td>0.45$\\pm$0.07</td>\n",
       "      <td>0.02$\\pm$0.03</td>\n",
       "      <td>0.09$\\pm$0.08</td>\n",
       "      <td>0.32$\\pm$0.05</td>\n",
       "      <td>0.06$\\pm$0.05</td>\n",
       "      <td>0.97$\\pm$0.03</td>\n",
       "      <td>0.97$\\pm$0.02</td>\n",
       "      <td>0.80$\\pm$0.09</td>\n",
       "      <td>0.95$\\pm$0.04</td>\n",
       "    </tr>\n",
       "    <tr>\n",
       "      <th>shodan</th>\n",
       "      <td>0.88$\\pm$0.02</td>\n",
       "      <td>0.12$\\pm$0.16</td>\n",
       "      <td>0.14$\\pm$0.16</td>\n",
       "      <td>0.23$\\pm$0.10</td>\n",
       "      <td>0.10$\\pm$0.14</td>\n",
       "      <td>0.81$\\pm$0.05</td>\n",
       "      <td>0.79$\\pm$0.06</td>\n",
       "      <td>0.76$\\pm$0.05</td>\n",
       "      <td>0.79$\\pm$0.06</td>\n",
       "    </tr>\n",
       "    <tr>\n",
       "      <th>securitytrails</th>\n",
       "      <td>1.00$\\pm$0.00</td>\n",
       "      <td>0.12$\\pm$0.25</td>\n",
       "      <td>0.86$\\pm$0.07</td>\n",
       "      <td>0.87$\\pm$0.04</td>\n",
       "      <td>0.67$\\pm$0.04</td>\n",
       "      <td>0.98$\\pm$0.04</td>\n",
       "      <td>0.96$\\pm$0.05</td>\n",
       "      <td>0.97$\\pm$0.04</td>\n",
       "      <td>0.98$\\pm$0.03</td>\n",
       "    </tr>\n",
       "    <tr>\n",
       "      <th>intrinsec</th>\n",
       "      <td>0.94$\\pm$0.02</td>\n",
       "      <td>0.00$\\pm$0.00</td>\n",
       "      <td>0.00$\\pm$0.00</td>\n",
       "      <td>0.00$\\pm$0.00</td>\n",
       "      <td>0.00$\\pm$0.00</td>\n",
       "      <td>0.32$\\pm$0.24</td>\n",
       "      <td>0.26$\\pm$0.19</td>\n",
       "      <td>0.75$\\pm$0.12</td>\n",
       "      <td>0.73$\\pm$0.13</td>\n",
       "    </tr>\n",
       "    <tr>\n",
       "      <th>unk_bruteforcer</th>\n",
       "      <td>0.60$\\pm$0.04</td>\n",
       "      <td>0.10$\\pm$0.04</td>\n",
       "      <td>0.53$\\pm$0.03</td>\n",
       "      <td>0.53$\\pm$0.03</td>\n",
       "      <td>0.52$\\pm$0.01</td>\n",
       "      <td>0.62$\\pm$0.03</td>\n",
       "      <td>0.61$\\pm$0.03</td>\n",
       "      <td>0.61$\\pm$0.03</td>\n",
       "      <td>0.63$\\pm$0.03</td>\n",
       "    </tr>\n",
       "    <tr>\n",
       "      <th>unk_spammer</th>\n",
       "      <td>0.42$\\pm$0.04</td>\n",
       "      <td>0.14$\\pm$0.04</td>\n",
       "      <td>0.23$\\pm$0.04</td>\n",
       "      <td>0.29$\\pm$0.04</td>\n",
       "      <td>0.19$\\pm$0.07</td>\n",
       "      <td>0.47$\\pm$0.06</td>\n",
       "      <td>0.46$\\pm$0.06</td>\n",
       "      <td>0.42$\\pm$0.08</td>\n",
       "      <td>0.47$\\pm$0.08</td>\n",
       "    </tr>\n",
       "    <tr>\n",
       "      <th>unk_exploiter</th>\n",
       "      <td>0.11$\\pm$0.14</td>\n",
       "      <td>0.07$\\pm$0.20</td>\n",
       "      <td>0.07$\\pm$0.20</td>\n",
       "      <td>0.00$\\pm$0.00</td>\n",
       "      <td>0.06$\\pm$0.16</td>\n",
       "      <td>0.07$\\pm$0.20</td>\n",
       "      <td>0.07$\\pm$0.20</td>\n",
       "      <td>0.00$\\pm$0.00</td>\n",
       "      <td>0.10$\\pm$0.21</td>\n",
       "    </tr>\n",
       "    <tr>\n",
       "      <th>macro avg</th>\n",
       "      <td>0.78$\\pm$0.03</td>\n",
       "      <td>0.26$\\pm$0.05</td>\n",
       "      <td>0.41$\\pm$0.04</td>\n",
       "      <td>0.49$\\pm$0.04</td>\n",
       "      <td>0.41$\\pm$0.04</td>\n",
       "      <td>0.74$\\pm$0.02</td>\n",
       "      <td>0.73$\\pm$0.03</td>\n",
       "      <td>0.75$\\pm$0.03</td>\n",
       "      <td>0.80$\\pm$0.02</td>\n",
       "    </tr>\n",
       "  </tbody>\n",
       "</table>\n",
       "</div>"
      ],
      "text/plain": [
       "                      iDarkVec            GCN           iGCN         GCNGRU  \\\n",
       "0                                                                             \n",
       "mirai            0.98$\\pm$0.00  0.63$\\pm$0.03  0.76$\\pm$0.02  0.69$\\pm$0.03   \n",
       "shadowserver     0.96$\\pm$0.02  0.14$\\pm$0.13  0.49$\\pm$0.15  0.64$\\pm$0.07   \n",
       "driftnet         0.96$\\pm$0.01  0.77$\\pm$0.09  0.73$\\pm$0.06  0.87$\\pm$0.05   \n",
       "internetcensus   0.99$\\pm$0.00  0.26$\\pm$0.12  0.33$\\pm$0.08  0.68$\\pm$0.05   \n",
       "censys           0.94$\\pm$0.01  0.53$\\pm$0.06  0.60$\\pm$0.05  0.59$\\pm$0.05   \n",
       "rapid7           1.00$\\pm$0.00  0.91$\\pm$0.05  0.76$\\pm$0.11  0.91$\\pm$0.02   \n",
       "onyphe           0.96$\\pm$0.02  0.06$\\pm$0.05  0.05$\\pm$0.04  0.11$\\pm$0.06   \n",
       "netsystems       0.45$\\pm$0.07  0.02$\\pm$0.03  0.09$\\pm$0.08  0.32$\\pm$0.05   \n",
       "shodan           0.88$\\pm$0.02  0.12$\\pm$0.16  0.14$\\pm$0.16  0.23$\\pm$0.10   \n",
       "securitytrails   1.00$\\pm$0.00  0.12$\\pm$0.25  0.86$\\pm$0.07  0.87$\\pm$0.04   \n",
       "intrinsec        0.94$\\pm$0.02  0.00$\\pm$0.00  0.00$\\pm$0.00  0.00$\\pm$0.00   \n",
       "unk_bruteforcer  0.60$\\pm$0.04  0.10$\\pm$0.04  0.53$\\pm$0.03  0.53$\\pm$0.03   \n",
       "unk_spammer      0.42$\\pm$0.04  0.14$\\pm$0.04  0.23$\\pm$0.04  0.29$\\pm$0.04   \n",
       "unk_exploiter    0.11$\\pm$0.14  0.07$\\pm$0.20  0.07$\\pm$0.20  0.00$\\pm$0.00   \n",
       "macro avg        0.78$\\pm$0.03  0.26$\\pm$0.05  0.41$\\pm$0.04  0.49$\\pm$0.04   \n",
       "\n",
       "                       iGCNGRU          GCN_f         iGCN_f       GCNGRU_f  \\\n",
       "0                                                                             \n",
       "mirai            0.72$\\pm$0.02  0.98$\\pm$0.00  0.98$\\pm$0.00  0.88$\\pm$0.06   \n",
       "shadowserver     0.49$\\pm$0.16  0.91$\\pm$0.01  0.90$\\pm$0.02  0.95$\\pm$0.01   \n",
       "driftnet         0.90$\\pm$0.02  0.88$\\pm$0.04  0.85$\\pm$0.05  0.97$\\pm$0.02   \n",
       "internetcensus   0.47$\\pm$0.13  0.64$\\pm$0.12  0.58$\\pm$0.14  0.90$\\pm$0.04   \n",
       "censys           0.60$\\pm$0.03  0.89$\\pm$0.03  0.88$\\pm$0.03  0.91$\\pm$0.02   \n",
       "rapid7           0.83$\\pm$0.10  0.84$\\pm$0.04  0.84$\\pm$0.02  0.69$\\pm$0.47   \n",
       "onyphe           0.05$\\pm$0.05  0.93$\\pm$0.03  0.93$\\pm$0.02  0.92$\\pm$0.01   \n",
       "netsystems       0.06$\\pm$0.05  0.97$\\pm$0.03  0.97$\\pm$0.02  0.80$\\pm$0.09   \n",
       "shodan           0.10$\\pm$0.14  0.81$\\pm$0.05  0.79$\\pm$0.06  0.76$\\pm$0.05   \n",
       "securitytrails   0.67$\\pm$0.04  0.98$\\pm$0.04  0.96$\\pm$0.05  0.97$\\pm$0.04   \n",
       "intrinsec        0.00$\\pm$0.00  0.32$\\pm$0.24  0.26$\\pm$0.19  0.75$\\pm$0.12   \n",
       "unk_bruteforcer  0.52$\\pm$0.01  0.62$\\pm$0.03  0.61$\\pm$0.03  0.61$\\pm$0.03   \n",
       "unk_spammer      0.19$\\pm$0.07  0.47$\\pm$0.06  0.46$\\pm$0.06  0.42$\\pm$0.08   \n",
       "unk_exploiter    0.06$\\pm$0.16  0.07$\\pm$0.20  0.07$\\pm$0.20  0.00$\\pm$0.00   \n",
       "macro avg        0.41$\\pm$0.04  0.74$\\pm$0.02  0.73$\\pm$0.03  0.75$\\pm$0.03   \n",
       "\n",
       "                     iGCNGRU_f  \n",
       "0                               \n",
       "mirai            0.98$\\pm$0.00  \n",
       "shadowserver     0.96$\\pm$0.01  \n",
       "driftnet         0.97$\\pm$0.02  \n",
       "internetcensus   0.92$\\pm$0.02  \n",
       "censys           0.92$\\pm$0.01  \n",
       "rapid7           0.97$\\pm$0.04  \n",
       "onyphe           0.91$\\pm$0.05  \n",
       "netsystems       0.95$\\pm$0.04  \n",
       "shodan           0.79$\\pm$0.06  \n",
       "securitytrails   0.98$\\pm$0.03  \n",
       "intrinsec        0.73$\\pm$0.13  \n",
       "unk_bruteforcer  0.63$\\pm$0.03  \n",
       "unk_spammer      0.47$\\pm$0.08  \n",
       "unk_exploiter    0.10$\\pm$0.21  \n",
       "macro avg        0.80$\\pm$0.02  "
      ]
     },
     "execution_count": 21,
     "metadata": {},
     "output_type": "execute_result"
    }
   ],
   "source": [
    "from tqdm.notebook import tqdm_notebook as tqdm\n",
    "\n",
    "columns = ['iDarkVec', 'GCN', 'iGCN', 'GCNGRU', 'iGCNGRU', \n",
    "           'GCN_f', 'iGCN_f', 'GCNGRU_f', 'iGCNGRU_f']\n",
    "\n",
    "final_reps = []\n",
    "for col_name in columns:\n",
    "    # Manage names\n",
    "    if col_name == 'iDarkVec': \n",
    "        emb_path = f'../data/nlp_embeddings/'\n",
    "        fname = f'{col_name.lower()}_'\n",
    "    else: \n",
    "        emb_path = f'../data/gnn_embeddings/'\n",
    "        if '_f' in col_name: \n",
    "            fname = f'{col_name.lower()[:-2]}_features_'\n",
    "        else: \n",
    "            fname = f'{col_name.lower()}_'\n",
    "\n",
    "    reports = []\n",
    "    # For each testing snapshots\n",
    "    pbar = tqdm(total=len(range(21, 32)))\n",
    "    for day in range(21, 32):\n",
    "        pbar.set_description(desc=f'{col_name} -- Day {day}')\n",
    "        # Load active senders\n",
    "        active = pd.read_csv(f'../data/raw/raw_202112{day}.csv')\\\n",
    "                   .src_ip.unique()\n",
    "        \n",
    "        # Retrieve embeddings\n",
    "        embeddings = pd.read_csv(\n",
    "            f'{emb_path}/embeddings_{fname}202112{day}.csv', \n",
    "            index_col=[0]\n",
    "        )\n",
    "        \n",
    "        # Run classification and extract F1-Score\n",
    "        crep = classification_pipeline(embeddings, active, gt)\n",
    "        reports.append(pd.DataFrame(crep).T['f1-score'])\n",
    "        pbar.update(1)\n",
    "        \n",
    "    # Get mean and std of F1-Score\n",
    "    mean = pd.concat(reports, axis=1).mean(axis=1, skipna=True)\n",
    "    std = pd.concat(reports, axis=1).std(axis=1, skipna=True)\n",
    "    \n",
    "    # Manage results as a dataframe\n",
    "    idx = mean.index\n",
    "    items = [(idx[i], f'{x[0]:.2f}$\\pm${x[1]:.2f}') \n",
    "                         for i, x in enumerate(zip(mean,std))]\n",
    "    final_rep = pd.DataFrame(items).set_index(0).rename(columns={1:col_name})\n",
    "    final_reps.append(final_rep)\n",
    "\n",
    "# Concatenate everything and save\n",
    "df = pd.concat(final_reps, axis=1).reindex(indices)\n",
    "df.to_csv('../data/results/main_results.csv')\n",
    "\n",
    "df"
   ]
  },
  {
   "cell_type": "markdown",
   "id": "b26a1112-d4dc-481e-9573-29c90210c692",
   "metadata": {
    "tags": []
   },
   "source": [
    "## 2. Impact of History $H$"
   ]
  },
  {
   "cell_type": "markdown",
   "id": "5e007b56-592c-4fef-aeab-63eba8f39808",
   "metadata": {},
   "source": [
    "The following code performs the same classification pipeline of the main results, but only for the i-GCN-GRU model and for different values of the history parameter $H$."
   ]
  },
  {
   "cell_type": "code",
   "execution_count": 20,
   "id": "5fc5df8b-248e-4668-b1b6-555be5c854aa",
   "metadata": {
    "tags": []
   },
   "outputs": [
    {
     "data": {
      "application/vnd.jupyter.widget-view+json": {
       "model_id": "af3f8f54e4604c0db03bd6bf24437e58",
       "version_major": 2,
       "version_minor": 0
      },
      "text/plain": [
       "  0%|          | 0/11 [00:00<?, ?it/s]"
      ]
     },
     "metadata": {},
     "output_type": "display_data"
    },
    {
     "data": {
      "application/vnd.jupyter.widget-view+json": {
       "model_id": "d6b26bdb6e8146ffb4dc4589ef24c5e4",
       "version_major": 2,
       "version_minor": 0
      },
      "text/plain": [
       "  0%|          | 0/11 [00:00<?, ?it/s]"
      ]
     },
     "metadata": {},
     "output_type": "display_data"
    },
    {
     "data": {
      "application/vnd.jupyter.widget-view+json": {
       "model_id": "7e83d7923c5a406e93588cd6e1bb3dd7",
       "version_major": 2,
       "version_minor": 0
      },
      "text/plain": [
       "  0%|          | 0/11 [00:00<?, ?it/s]"
      ]
     },
     "metadata": {},
     "output_type": "display_data"
    },
    {
     "data": {
      "application/vnd.jupyter.widget-view+json": {
       "model_id": "4f1d9343bd7c48519f23dfb113f6dc36",
       "version_major": 2,
       "version_minor": 0
      },
      "text/plain": [
       "  0%|          | 0/11 [00:00<?, ?it/s]"
      ]
     },
     "metadata": {},
     "output_type": "display_data"
    },
    {
     "data": {
      "application/vnd.jupyter.widget-view+json": {
       "model_id": "04ebbd0d54e54c4187dd89a3d5d4da9b",
       "version_major": 2,
       "version_minor": 0
      },
      "text/plain": [
       "  0%|          | 0/11 [00:00<?, ?it/s]"
      ]
     },
     "metadata": {},
     "output_type": "display_data"
    },
    {
     "data": {
      "application/vnd.jupyter.widget-view+json": {
       "model_id": "f9272d0fd8ff4ba1987e32c54d3cfb0f",
       "version_major": 2,
       "version_minor": 0
      },
      "text/plain": [
       "  0%|          | 0/11 [00:00<?, ?it/s]"
      ]
     },
     "metadata": {},
     "output_type": "display_data"
    },
    {
     "data": {
      "application/vnd.jupyter.widget-view+json": {
       "model_id": "44af2d9960f54460ac0fa4c09f6d7217",
       "version_major": 2,
       "version_minor": 0
      },
      "text/plain": [
       "  0%|          | 0/11 [00:00<?, ?it/s]"
      ]
     },
     "metadata": {},
     "output_type": "display_data"
    },
    {
     "data": {
      "application/vnd.jupyter.widget-view+json": {
       "model_id": "7e75932fc50a450ab0688131aa0bb655",
       "version_major": 2,
       "version_minor": 0
      },
      "text/plain": [
       "  0%|          | 0/11 [00:00<?, ?it/s]"
      ]
     },
     "metadata": {},
     "output_type": "display_data"
    },
    {
     "data": {
      "application/vnd.jupyter.widget-view+json": {
       "model_id": "db322de9aabd4287b45139e6f855b7bf",
       "version_major": 2,
       "version_minor": 0
      },
      "text/plain": [
       "  0%|          | 0/11 [00:00<?, ?it/s]"
      ]
     },
     "metadata": {},
     "output_type": "display_data"
    },
    {
     "data": {
      "text/html": [
       "<div>\n",
       "<style scoped>\n",
       "    .dataframe tbody tr th:only-of-type {\n",
       "        vertical-align: middle;\n",
       "    }\n",
       "\n",
       "    .dataframe tbody tr th {\n",
       "        vertical-align: top;\n",
       "    }\n",
       "\n",
       "    .dataframe thead th {\n",
       "        text-align: right;\n",
       "    }\n",
       "</style>\n",
       "<table border=\"1\" class=\"dataframe\">\n",
       "  <thead>\n",
       "    <tr style=\"text-align: right;\">\n",
       "      <th></th>\n",
       "      <th>h</th>\n",
       "      <th>f1</th>\n",
       "      <th>f1min</th>\n",
       "      <th>f1max</th>\n",
       "    </tr>\n",
       "  </thead>\n",
       "  <tbody>\n",
       "    <tr>\n",
       "      <th>0</th>\n",
       "      <td>0</td>\n",
       "      <td>0.729475</td>\n",
       "      <td>0.707881</td>\n",
       "      <td>0.751070</td>\n",
       "    </tr>\n",
       "    <tr>\n",
       "      <th>1</th>\n",
       "      <td>1</td>\n",
       "      <td>0.756282</td>\n",
       "      <td>0.736731</td>\n",
       "      <td>0.775833</td>\n",
       "    </tr>\n",
       "    <tr>\n",
       "      <th>2</th>\n",
       "      <td>2</td>\n",
       "      <td>0.780522</td>\n",
       "      <td>0.763755</td>\n",
       "      <td>0.797289</td>\n",
       "    </tr>\n",
       "    <tr>\n",
       "      <th>3</th>\n",
       "      <td>3</td>\n",
       "      <td>0.791265</td>\n",
       "      <td>0.773972</td>\n",
       "      <td>0.808557</td>\n",
       "    </tr>\n",
       "    <tr>\n",
       "      <th>4</th>\n",
       "      <td>4</td>\n",
       "      <td>0.790726</td>\n",
       "      <td>0.775141</td>\n",
       "      <td>0.806310</td>\n",
       "    </tr>\n",
       "    <tr>\n",
       "      <th>5</th>\n",
       "      <td>5</td>\n",
       "      <td>0.796390</td>\n",
       "      <td>0.780878</td>\n",
       "      <td>0.811903</td>\n",
       "    </tr>\n",
       "    <tr>\n",
       "      <th>6</th>\n",
       "      <td>6</td>\n",
       "      <td>0.793773</td>\n",
       "      <td>0.779929</td>\n",
       "      <td>0.807617</td>\n",
       "    </tr>\n",
       "    <tr>\n",
       "      <th>7</th>\n",
       "      <td>7</td>\n",
       "      <td>0.797479</td>\n",
       "      <td>0.781963</td>\n",
       "      <td>0.812995</td>\n",
       "    </tr>\n",
       "    <tr>\n",
       "      <th>8</th>\n",
       "      <td>8</td>\n",
       "      <td>0.795375</td>\n",
       "      <td>0.776371</td>\n",
       "      <td>0.814379</td>\n",
       "    </tr>\n",
       "  </tbody>\n",
       "</table>\n",
       "</div>"
      ],
      "text/plain": [
       "   h        f1     f1min     f1max\n",
       "0  0  0.729475  0.707881  0.751070\n",
       "1  1  0.756282  0.736731  0.775833\n",
       "2  2  0.780522  0.763755  0.797289\n",
       "3  3  0.791265  0.773972  0.808557\n",
       "4  4  0.790726  0.775141  0.806310\n",
       "5  5  0.796390  0.780878  0.811903\n",
       "6  6  0.793773  0.779929  0.807617\n",
       "7  7  0.797479  0.781963  0.812995\n",
       "8  8  0.795375  0.776371  0.814379"
      ]
     },
     "execution_count": 20,
     "metadata": {},
     "output_type": "execute_result"
    }
   ],
   "source": [
    "from tqdm.notebook import tqdm_notebook as tqdm\n",
    "\n",
    "reports = []\n",
    "emb_path = f'../data/gnn_embeddings/'\n",
    "for h in [0, 1, 2, 3, 4, 5, 6, 7, 8]:\n",
    "    if h!=5:\n",
    "        fname = f'igcngru_features_H{h}_'\n",
    "    else:\n",
    "        fname = f'igcngru_features_'\n",
    "        \n",
    "    pbar = tqdm(total=len(range(21, 32)))\n",
    "    # For each testing snapshots\n",
    "    for day in range(21, 32):\n",
    "        pbar.set_description(desc=f'H {h} -- Day {day}')\n",
    "        # Load active senders\n",
    "        active = pd.read_csv(f'../data/raw/raw_202112{day}.csv')\\\n",
    "                   .src_ip.unique()\n",
    "        \n",
    "        # Retrieve embeddings\n",
    "        embeddings = pd.read_csv(\n",
    "            f'{emb_path}/embeddings_{fname}202112{day}.csv', \n",
    "            index_col=[0]\n",
    "        )\n",
    "        \n",
    "        # Run classification and extract F1-Score\n",
    "        crep = classification_pipeline(embeddings, active, gt)\n",
    "        reports.append((h, crep['macro avg']['f1-score']))\n",
    "        \n",
    "        pbar.update(1)\n",
    "\n",
    "# Manage results in dataframe\n",
    "df = pd.DataFrame(reports, columns=['h', 'f1'])\n",
    "\n",
    "# Get avg. and std. of F1-Score\n",
    "df = df.groupby('h')['f1'].agg(['mean', 'std']).reset_index()\n",
    "df.rename(columns={'mean': 'f1', 'std': 'stdf1'}, inplace=True)\n",
    "\n",
    "# Get min and max\n",
    "df['f1min'] = df['f1'] - df['stdf1']\n",
    "df['f1max'] = df['f1'] + df['stdf1']\n",
    "df = df.drop(columns=['stdf1'])\n",
    "\n",
    "# Save\n",
    "df.to_csv('../data/results/impact_of_history.csv', index=False)\n",
    "\n",
    "df"
   ]
  },
  {
   "cell_type": "markdown",
   "id": "01847a55-2741-4a93-a469-2a17a57cf2b3",
   "metadata": {
    "tags": []
   },
   "source": [
    "## 3. Impact of Training Epochs"
   ]
  },
  {
   "cell_type": "markdown",
   "id": "5a71a52a-8e42-4b8d-9679-99400277e033",
   "metadata": {},
   "source": [
    "The following code performs the same classification pipeline of the main results, but only for the i-GCN-GRU model and for different values of the training epochs used in the incremental training procedure."
   ]
  },
  {
   "cell_type": "code",
   "execution_count": 19,
   "id": "27fcded3-741a-45f4-9ada-9857feb060d3",
   "metadata": {
    "tags": []
   },
   "outputs": [
    {
     "data": {
      "application/vnd.jupyter.widget-view+json": {
       "model_id": "a2cf33a03b9f404b9eee83b297d966e0",
       "version_major": 2,
       "version_minor": 0
      },
      "text/plain": [
       "  0%|          | 0/11 [00:00<?, ?it/s]"
      ]
     },
     "metadata": {},
     "output_type": "display_data"
    },
    {
     "data": {
      "application/vnd.jupyter.widget-view+json": {
       "model_id": "f9c1130b9e254f5892ea346236903e4b",
       "version_major": 2,
       "version_minor": 0
      },
      "text/plain": [
       "  0%|          | 0/11 [00:00<?, ?it/s]"
      ]
     },
     "metadata": {},
     "output_type": "display_data"
    },
    {
     "data": {
      "application/vnd.jupyter.widget-view+json": {
       "model_id": "4da87cf4c2674fec8398ae85d15ba649",
       "version_major": 2,
       "version_minor": 0
      },
      "text/plain": [
       "  0%|          | 0/11 [00:00<?, ?it/s]"
      ]
     },
     "metadata": {},
     "output_type": "display_data"
    },
    {
     "data": {
      "application/vnd.jupyter.widget-view+json": {
       "model_id": "81e1c0493946491689c4a30a032baf7a",
       "version_major": 2,
       "version_minor": 0
      },
      "text/plain": [
       "  0%|          | 0/11 [00:00<?, ?it/s]"
      ]
     },
     "metadata": {},
     "output_type": "display_data"
    },
    {
     "data": {
      "application/vnd.jupyter.widget-view+json": {
       "model_id": "93a6644e695a4e1ba02182740f9473a5",
       "version_major": 2,
       "version_minor": 0
      },
      "text/plain": [
       "  0%|          | 0/11 [00:00<?, ?it/s]"
      ]
     },
     "metadata": {},
     "output_type": "display_data"
    },
    {
     "data": {
      "application/vnd.jupyter.widget-view+json": {
       "model_id": "2452a529195e4fd2b12c0e043ea6b475",
       "version_major": 2,
       "version_minor": 0
      },
      "text/plain": [
       "  0%|          | 0/11 [00:00<?, ?it/s]"
      ]
     },
     "metadata": {},
     "output_type": "display_data"
    },
    {
     "data": {
      "application/vnd.jupyter.widget-view+json": {
       "model_id": "fc82e5037a5747618cdf2c3c3b9cfe72",
       "version_major": 2,
       "version_minor": 0
      },
      "text/plain": [
       "  0%|          | 0/11 [00:00<?, ?it/s]"
      ]
     },
     "metadata": {},
     "output_type": "display_data"
    },
    {
     "data": {
      "text/html": [
       "<div>\n",
       "<style scoped>\n",
       "    .dataframe tbody tr th:only-of-type {\n",
       "        vertical-align: middle;\n",
       "    }\n",
       "\n",
       "    .dataframe tbody tr th {\n",
       "        vertical-align: top;\n",
       "    }\n",
       "\n",
       "    .dataframe thead th {\n",
       "        text-align: right;\n",
       "    }\n",
       "</style>\n",
       "<table border=\"1\" class=\"dataframe\">\n",
       "  <thead>\n",
       "    <tr style=\"text-align: right;\">\n",
       "      <th></th>\n",
       "      <th>epoch</th>\n",
       "      <th>f1</th>\n",
       "      <th>f1min</th>\n",
       "      <th>f1max</th>\n",
       "    </tr>\n",
       "  </thead>\n",
       "  <tbody>\n",
       "    <tr>\n",
       "      <th>0</th>\n",
       "      <td>1</td>\n",
       "      <td>0.796390</td>\n",
       "      <td>0.780878</td>\n",
       "      <td>0.811903</td>\n",
       "    </tr>\n",
       "    <tr>\n",
       "      <th>1</th>\n",
       "      <td>5</td>\n",
       "      <td>0.786023</td>\n",
       "      <td>0.774541</td>\n",
       "      <td>0.797506</td>\n",
       "    </tr>\n",
       "    <tr>\n",
       "      <th>2</th>\n",
       "      <td>10</td>\n",
       "      <td>0.794721</td>\n",
       "      <td>0.780886</td>\n",
       "      <td>0.808556</td>\n",
       "    </tr>\n",
       "    <tr>\n",
       "      <th>3</th>\n",
       "      <td>15</td>\n",
       "      <td>0.788198</td>\n",
       "      <td>0.774631</td>\n",
       "      <td>0.801766</td>\n",
       "    </tr>\n",
       "    <tr>\n",
       "      <th>4</th>\n",
       "      <td>20</td>\n",
       "      <td>0.778478</td>\n",
       "      <td>0.762163</td>\n",
       "      <td>0.794793</td>\n",
       "    </tr>\n",
       "    <tr>\n",
       "      <th>5</th>\n",
       "      <td>25</td>\n",
       "      <td>0.771929</td>\n",
       "      <td>0.759982</td>\n",
       "      <td>0.783876</td>\n",
       "    </tr>\n",
       "    <tr>\n",
       "      <th>6</th>\n",
       "      <td>30</td>\n",
       "      <td>0.759843</td>\n",
       "      <td>0.747208</td>\n",
       "      <td>0.772478</td>\n",
       "    </tr>\n",
       "  </tbody>\n",
       "</table>\n",
       "</div>"
      ],
      "text/plain": [
       "   epoch        f1     f1min     f1max\n",
       "0      1  0.796390  0.780878  0.811903\n",
       "1      5  0.786023  0.774541  0.797506\n",
       "2     10  0.794721  0.780886  0.808556\n",
       "3     15  0.788198  0.774631  0.801766\n",
       "4     20  0.778478  0.762163  0.794793\n",
       "5     25  0.771929  0.759982  0.783876\n",
       "6     30  0.759843  0.747208  0.772478"
      ]
     },
     "execution_count": 19,
     "metadata": {},
     "output_type": "execute_result"
    }
   ],
   "source": [
    "from tqdm.notebook import tqdm_notebook as tqdm\n",
    "\n",
    "reports = []\n",
    "emb_path = f'../data/gnn_embeddings/'\n",
    "for epoch in [1, 5, 10, 15, 20, 25, 30]:\n",
    "    if epoch!=1:\n",
    "        fname = f'igcngru_features_ee{epoch}_'\n",
    "    else:\n",
    "        fname = f'igcngru_features_'\n",
    "        \n",
    "    pbar = tqdm(total=len(range(21, 32)))\n",
    "    # For each testing snapshots\n",
    "    for day in range(21, 32):\n",
    "        pbar.set_description(desc=f'Epochs {epoch} -- Day {day}')\n",
    "        # Load active senders\n",
    "        active = pd.read_csv(f'../data/raw/raw_202112{day}.csv')\\\n",
    "                   .src_ip.unique()\n",
    "        \n",
    "        # Retrieve embeddings\n",
    "        embeddings = pd.read_csv(\n",
    "            f'{emb_path}/embeddings_{fname}202112{day}.csv', \n",
    "            index_col=[0]\n",
    "        )\n",
    "        \n",
    "        # Run classification and extract F1-Score\n",
    "        crep = classification_pipeline(embeddings, active, gt)\n",
    "        reports.append((epoch, crep['macro avg']['f1-score']))\n",
    "        \n",
    "        pbar.update(1)\n",
    "\n",
    "# Manage results in dataframe\n",
    "df = pd.DataFrame(reports, columns=['epoch', 'f1'])\n",
    "\n",
    "# Get avg. and std. of F1-Score\n",
    "df = df.groupby('epoch')['f1'].agg(['mean', 'std']).reset_index()\n",
    "df.rename(columns={'mean': 'f1', 'std': 'stdf1'}, inplace=True)\n",
    "\n",
    "# Get min and max\n",
    "df['f1min'] = df['f1'] - df['stdf1']\n",
    "df['f1max'] = df['f1'] + df['stdf1']\n",
    "df = df.drop(columns=['stdf1'])\n",
    "\n",
    "# Save\n",
    "df.to_csv('../data/results/impact_of_epochs.csv', index=False)\n",
    "\n",
    "df"
   ]
  }
 ],
 "metadata": {
  "kernelspec": {
   "display_name": "Python 3 (ipykernel)",
   "language": "python",
   "name": "python3"
  },
  "language_info": {
   "codemirror_mode": {
    "name": "ipython",
    "version": 3
   },
   "file_extension": ".py",
   "mimetype": "text/x-python",
   "name": "python",
   "nbconvert_exporter": "python",
   "pygments_lexer": "ipython3",
   "version": "3.9.13"
  }
 },
 "nbformat": 4,
 "nbformat_minor": 5
}
